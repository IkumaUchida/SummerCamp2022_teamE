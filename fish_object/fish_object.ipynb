{
 "cells": [
  {
   "cell_type": "code",
   "execution_count": 3,
   "id": "7d345d62",
   "metadata": {},
   "outputs": [],
   "source": [
    "# f = open('labels/Problem_01-MP4-t-0_jpg.rf.45f90faaf07647432ef5e713bd461363.txt', 'r')\n",
    "# data = f.readlines()\n",
    "# data1 = data[0].split()\n",
    "#print（len（data））\n",
    "\n",
    "\n",
    "# obj_1=obj_1 = {}\n",
    "# obj_1['image_name'] = 'image_1'\n",
    "# obj_1['class_id'] = 1\n",
    "# obj_1['bbox'] = [0, 0, 10, 10]\n",
    "# obj_1\n",
    "\n",
    "# f = open('labels/Problem_01-MP4-t-0_jpg.rf.45f90faaf07647432ef5e713bd461363.txt', 'r')\n",
    "# data = f.readlines()\n",
    "# data[0].split()"
   ]
  },
  {
   "cell_type": "code",
   "execution_count": 1,
   "id": "7b166a57",
   "metadata": {},
   "outputs": [
    {
     "name": "stdout",
     "output_type": "stream",
     "text": [
      "Requirement already satisfied: tqdm in c:\\users\\yuidn\\anaconda3\\envs\\pythonenv\\lib\\site-packages (4.64.1)\n",
      "Requirement already satisfied: colorama in c:\\users\\yuidn\\anaconda3\\envs\\pythonenv\\lib\\site-packages (from tqdm) (0.4.4)\n"
     ]
    }
   ],
   "source": [
    "!pip install tqdm"
   ]
  },
  {
   "cell_type": "code",
   "execution_count": 2,
   "id": "8f6d2228",
   "metadata": {},
   "outputs": [],
   "source": [
    "# f = open('labels/Problem_01-MP4-t-0_jpg.rf.45f90faaf07647432ef5e713bd461363.txt', 'r')\n",
    "# data = f.readlines()\n",
    "# data1 = data[0].split()\n",
    "#print（len（data））\n",
    "import glob\n",
    "from tqdm import tqdm\n",
    "\n",
    "CLASS_ID_INDEX = 0\n",
    "BBOX_START_INDEX = 1\n",
    "BBOX_END_INDEX = 5\n",
    "\n",
    "#objectのディクショナリ作成\n",
    "obj_info_list = []\n",
    "for txt in glob.glob(\"labels/*.txt\"):\n",
    "    f = open(txt, 'r')\n",
    "    for data_row in f.readlines():    \n",
    "        obj_dict = {}\n",
    "        data_row_list = data_row.split()\n",
    "        obj_dict['img_name'] = txt.split('.')[0]\n",
    "        obj_dict['class_id'] = data_row_list[CLASS_ID_INDEX]\n",
    "        obj_dict['bbox'] = [float(coodinate)  for coodinate in data_row_list[BBOX_START_INDEX:BBOX_END_INDEX]]\n",
    "\n",
    "        obj_info_list.append(obj_dict)"
   ]
  },
  {
   "cell_type": "code",
   "execution_count": 3,
   "id": "08400a72",
   "metadata": {},
   "outputs": [
    {
     "name": "stdout",
     "output_type": "stream",
     "text": [
      "1117\n"
     ]
    },
    {
     "data": {
      "text/plain": [
       "{'img_name': 'labels\\\\Problem_01-MP4-t-0-2_jpg',\n",
       " 'class_id': '0',\n",
       " 'bbox': [0.21875,\n",
       "  0.717948717948718,\n",
       "  0.14423076923076922,\n",
       "  0.17094017094017094]}"
      ]
     },
     "execution_count": 3,
     "metadata": {},
     "output_type": "execute_result"
    }
   ],
   "source": [
    "print(len(obj_info_list))\n",
    "obj_info_list[2]"
   ]
  },
  {
   "cell_type": "code",
   "execution_count": 4,
   "id": "d156734c",
   "metadata": {},
   "outputs": [
    {
     "name": "stdout",
     "output_type": "stream",
     "text": [
      "{'img_name': 'labels\\\\Problem_01-MP4-t-0-2_jpg', 'class_id': '2', 'bbox': [0.3701923076923077, 0.5299145299145299, 0.06009615384615385, 0.12393162393162394]}\n"
     ]
    }
   ],
   "source": [
    "print(obj_info_list[1])"
   ]
  },
  {
   "cell_type": "code",
   "execution_count": 5,
   "id": "09af6062",
   "metadata": {},
   "outputs": [
    {
     "name": "stderr",
     "output_type": "stream",
     "text": [
      "100%|██████████| 1117/1117 [1:31:00<00:00,  4.89s/it]   \n"
     ]
    }
   ],
   "source": [
    "#ペアリスト作成\n",
    "pair_list = []\n",
    "for i in tqdm(range(len(obj_info_list))):\n",
    "    for j in range(len(obj_info_list)):\n",
    "        for k in range(len(obj_info_list)):\n",
    "            if obj_info_list[i]['class_id'] == obj_info_list[j]['class_id']:\n",
    "                #pair_list.append([obj_info_list[i], obj_info_list[i+j]])\n",
    "                if obj_info_list[i]['class_id'] != obj_info_list[k]['class_id']:\n",
    "                    pair_list.append([obj_info_list[i],obj_info_list[j], obj_info_list[k]])"
   ]
  },
  {
   "cell_type": "code",
   "execution_count": 6,
   "id": "fb89df67",
   "metadata": {
    "scrolled": true
   },
   "outputs": [
    {
     "data": {
      "text/plain": [
       "278620460"
      ]
     },
     "execution_count": 6,
     "metadata": {},
     "output_type": "execute_result"
    }
   ],
   "source": [
    "len(pair_list)"
   ]
  },
  {
   "cell_type": "code",
   "execution_count": 7,
   "id": "1a002234",
   "metadata": {},
   "outputs": [],
   "source": [
    "import pickle\n",
    "\n",
    "with open(\"pairlist.pickle\", mode=\"wb\") as f:\n",
    "    pickle.dump(pair_list, f)"
   ]
  },
  {
   "cell_type": "code",
   "execution_count": null,
   "id": "62d01a49",
   "metadata": {},
   "outputs": [],
   "source": [
    "for i in range(10):\n",
    "    if obj_info_list[i]['class_id'] == obj_info_list[i+1]['class_id']:\n",
    "        pair_list.append([obj_info_list[i], obj_info_list[i+1]])"
   ]
  },
  {
   "cell_type": "code",
   "execution_count": 16,
   "id": "0c0779f2",
   "metadata": {},
   "outputs": [
    {
     "data": {
      "text/plain": [
       "'labels\\\\Problem_01-MP4-t-0-2_jpg'"
      ]
     },
     "execution_count": 16,
     "metadata": {},
     "output_type": "execute_result"
    }
   ],
   "source": [
    "obj_info_list[0][\"img_name\"]"
   ]
  },
  {
   "cell_type": "code",
   "execution_count": 21,
   "id": "f1aeafbf",
   "metadata": {},
   "outputs": [
    {
     "data": {
      "text/plain": [
       "'class_id'"
      ]
     },
     "execution_count": 21,
     "metadata": {},
     "output_type": "execute_result"
    }
   ],
   "source": [
    "list(obj_info_list[0].keys())[1]"
   ]
  },
  {
   "cell_type": "code",
   "execution_count": 13,
   "id": "b9e26912",
   "metadata": {},
   "outputs": [
    {
     "data": {
      "text/plain": [
       "[{'img_name': 'labels\\\\Problem_01-MP4-t-0-2_jpg',\n",
       "  'class_id': '2',\n",
       "  'bbox': [0.44711538461538464,\n",
       "   0.8162393162393162,\n",
       "   0.14182692307692307,\n",
       "   0.19230769230769232]},\n",
       " {'img_name': 'labels\\\\Problem_01-MP4-t-0-2_jpg',\n",
       "  'class_id': '2',\n",
       "  'bbox': [0.3701923076923077,\n",
       "   0.5299145299145299,\n",
       "   0.06009615384615385,\n",
       "   0.12393162393162394]},\n",
       " {'img_name': 'labels\\\\Problem_01-MP4-t-0-2_jpg',\n",
       "  'class_id': '2',\n",
       "  'bbox': [0.3701923076923077,\n",
       "   0.5299145299145299,\n",
       "   0.06009615384615385,\n",
       "   0.12393162393162394]}]"
      ]
     },
     "execution_count": 13,
     "metadata": {},
     "output_type": "execute_result"
    }
   ],
   "source": [
    "pair_list[0]"
   ]
  },
  {
   "cell_type": "code",
   "execution_count": null,
   "id": "4df85065",
   "metadata": {},
   "outputs": [],
   "source": []
  }
 ],
 "metadata": {
  "kernelspec": {
   "display_name": "Python 3 (ipykernel)",
   "language": "python",
   "name": "python3"
  },
  "language_info": {
   "codemirror_mode": {
    "name": "ipython",
    "version": 3
   },
   "file_extension": ".py",
   "mimetype": "text/x-python",
   "name": "python",
   "nbconvert_exporter": "python",
   "pygments_lexer": "ipython3",
   "version": "3.8.12"
  }
 },
 "nbformat": 4,
 "nbformat_minor": 5
}
