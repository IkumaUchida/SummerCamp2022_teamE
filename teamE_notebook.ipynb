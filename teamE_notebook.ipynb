{
 "cells": [
  {
   "cell_type": "markdown",
   "id": "b0b2ea59",
   "metadata": {},
   "source": [
    "## import libraries"
   ]
  },
  {
   "cell_type": "code",
   "execution_count": 1,
   "id": "15f755cd",
   "metadata": {},
   "outputs": [],
   "source": [
    "import os\n",
    "import sys\n",
    "import glob\n",
    "\n",
    "import cv2\n",
    "import numpy as np\n",
    "import math\n",
    "import torch"
   ]
  },
  {
   "cell_type": "markdown",
   "id": "a58be6a5",
   "metadata": {},
   "source": [
    "## detect fish"
   ]
  },
  {
   "cell_type": "code",
   "execution_count": null,
   "id": "699a2ed8",
   "metadata": {},
   "outputs": [],
   "source": [
    "def detect_fish(frame):\n",
    "    print(\"This is detect_fish.\")"
   ]
  },
  {
   "cell_type": "markdown",
   "id": "f0f4d9be",
   "metadata": {},
   "source": [
    "## track fish"
   ]
  },
  {
   "cell_type": "code",
   "execution_count": 2,
   "id": "9231ac50",
   "metadata": {},
   "outputs": [],
   "source": [
    "def track_fish(video):\n",
    "    print(\"This is track_fish.\")"
   ]
  },
  {
   "cell_type": "markdown",
   "id": "3dbed1c2",
   "metadata": {},
   "source": [
    "## classify fish"
   ]
  },
  {
   "cell_type": "code",
   "execution_count": null,
   "id": "3f6a3081",
   "metadata": {},
   "outputs": [],
   "source": [
    "def classify_fish(image):\n",
    "    print(\"This is classify_fish.\")"
   ]
  },
  {
   "cell_type": "markdown",
   "id": "66c04ec6",
   "metadata": {},
   "source": [
    "## main"
   ]
  },
  {
   "cell_type": "code",
   "execution_count": 3,
   "id": "a1636655",
   "metadata": {},
   "outputs": [
    {
     "ename": "NameError",
     "evalue": "name 'detect_fish' is not defined",
     "output_type": "error",
     "traceback": [
      "\u001b[0;31m---------------------------------------------------------------------------\u001b[0m",
      "\u001b[0;31mNameError\u001b[0m                                 Traceback (most recent call last)",
      "Cell \u001b[0;32mIn [3], line 1\u001b[0m\n\u001b[0;32m----> 1\u001b[0m detect_fish(\u001b[38;5;28;01mNone\u001b[39;00m)\n",
      "\u001b[0;31mNameError\u001b[0m: name 'detect_fish' is not defined"
     ]
    }
   ],
   "source": [
    "detect_fish(None)\n",
    "track_fish\n",
    "classify_fish"
   ]
  }
 ],
 "metadata": {
  "kernelspec": {
   "display_name": "Python 3 (ipykernel)",
   "language": "python",
   "name": "python3"
  },
  "language_info": {
   "codemirror_mode": {
    "name": "ipython",
    "version": 3
   },
   "file_extension": ".py",
   "mimetype": "text/x-python",
   "name": "python",
   "nbconvert_exporter": "python",
   "pygments_lexer": "ipython3",
   "version": "3.8.10"
  }
 },
 "nbformat": 4,
 "nbformat_minor": 5
}
